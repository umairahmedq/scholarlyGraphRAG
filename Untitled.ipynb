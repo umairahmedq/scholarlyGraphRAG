{
 "cells": [
  {
   "cell_type": "code",
   "execution_count": 1,
   "id": "3b99058a-c75e-4a29-96df-667013c626de",
   "metadata": {},
   "outputs": [
    {
     "name": "stderr",
     "output_type": "stream",
     "text": [
      "/home/jovyan/shared/Umair/custom_envs/llama31/lib/python3.9/site-packages/tqdm/auto.py:21: TqdmWarning: IProgress not found. Please update jupyter and ipywidgets. See https://ipywidgets.readthedocs.io/en/stable/user_install.html\n",
      "  from .autonotebook import tqdm as notebook_tqdm\n"
     ]
    }
   ],
   "source": [
    "import pandas as pd\n",
    "from sklearn.model_selection import train_test_split\n",
    "from transformers import (\n",
    "    BartTokenizerFast,\n",
    "    BartForSequenceClassification,\n",
    "    BartConfig,\n",
    "    Trainer,\n",
    "    TrainingArguments,\n",
    "    DataCollatorWithPadding\n",
    ")\n",
    "from datasets import Dataset, DatasetDict\n",
    "import evaluate\n",
    "import numpy as np\n",
    "import torch"
   ]
  },
  {
   "cell_type": "code",
   "execution_count": 12,
   "id": "0b8f4c6a-65b4-4a45-8379-be07bb38ee74",
   "metadata": {},
   "outputs": [],
   "source": [
    "df = pd.read_csv(\"/home/jovyan/trainingmodel/querykg/code/deepseek/sparqlquery_ftdatabig.csv\")"
   ]
  },
  {
   "cell_type": "code",
   "execution_count": 13,
   "id": "79105700-1d8e-429a-9aef-8465ba67be65",
   "metadata": {},
   "outputs": [
    {
     "name": "stdout",
     "output_type": "stream",
     "text": [
      "{'authors': 0, 'authors_by_conference': 1, 'authors_by_organization': 2, 'conferences': 3, 'organizations': 4, 'papers': 5, 'papers_by_author': 6, 'papers_by_conference': 7, 'papers_by_organization': 8}\n"
     ]
    }
   ],
   "source": [
    "label_list = sorted(df[\"label\"].unique())\n",
    "label_to_id = {label: idx for idx, label in enumerate(label_list)}\n",
    "print(label_to_id)\n",
    "df[\"label_id\"] = df[\"label\"].map(label_to_id)"
   ]
  },
  {
   "cell_type": "code",
   "execution_count": 5,
   "id": "4d5f4875-67b1-41a9-88a2-dd3e3106155b",
   "metadata": {},
   "outputs": [],
   "source": [
    "train_df, test_df = train_test_split(df, test_size=0.2, stratify=df[\"label\"], random_state=42)"
   ]
  },
  {
   "cell_type": "code",
   "execution_count": 14,
   "id": "a79ca354-8899-41bf-9138-6c955d5f535c",
   "metadata": {},
   "outputs": [
    {
     "name": "stdout",
     "output_type": "stream",
     "text": [
      "label\n",
      "authors                    200\n",
      "authors_by_conference      200\n",
      "authors_by_organization    200\n",
      "conferences                200\n",
      "organizations              200\n",
      "papers                     200\n",
      "papers_by_author           200\n",
      "papers_by_conference       200\n",
      "papers_by_organization     200\n",
      "Name: count, dtype: int64\n"
     ]
    }
   ],
   "source": [
    "label_counts = df[\"label\"].value_counts().sort_index()  # sorts by label\n",
    "print(label_counts)"
   ]
  }
 ],
 "metadata": {
  "kernelspec": {
   "display_name": "Llama31ft (LLM)",
   "language": "python",
   "name": "llama31ft"
  },
  "language_info": {
   "codemirror_mode": {
    "name": "ipython",
    "version": 3
   },
   "file_extension": ".py",
   "mimetype": "text/x-python",
   "name": "python",
   "nbconvert_exporter": "python",
   "pygments_lexer": "ipython3",
   "version": "3.9.20"
  }
 },
 "nbformat": 4,
 "nbformat_minor": 5
}
